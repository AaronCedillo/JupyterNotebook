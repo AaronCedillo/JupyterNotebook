{
 "cells": [
  {
   "cell_type": "markdown",
   "metadata": {},
   "source": [
    "### <span style=\"color:red\">CONDICIONAL IF</span>"
   ]
  },
  {
   "cell_type": "markdown",
   "metadata": {},
   "source": [
    "##### Ejecuta las instrucciones sólo si se cumple una condición."
   ]
  },
  {
   "cell_type": "code",
   "execution_count": 1,
   "metadata": {},
   "outputs": [
    {
     "name": "stdout",
     "output_type": "stream",
     "text": [
      "  Ingrese una nota: 70\n",
      "   Aprobo\n"
     ]
    }
   ],
   "source": [
    "nota = int(input('  Ingrese una nota: '))\n",
    "if nota > 59:\n",
    "    print(\"   Aprobo\")\n",
    "else: \n",
    "    print(\"    Reprobo\")"
   ]
  },
  {
   "cell_type": "markdown",
   "metadata": {},
   "source": [
    "##### Saber si un número es par o impar"
   ]
  },
  {
   "cell_type": "code",
   "execution_count": 2,
   "metadata": {},
   "outputs": [
    {
     "name": "stdout",
     "output_type": "stream",
     "text": [
      "  Ingrese un número: 8\n",
      "   El número es par\n"
     ]
    }
   ],
   "source": [
    "numero = int(input('  Ingrese un número: '))\n",
    "if numero %2 == 0:\n",
    "    print('   El número es par')\n",
    "else:\n",
    "    print('   El número is impar')"
   ]
  },
  {
   "cell_type": "markdown",
   "metadata": {},
   "source": [
    "##### <span style=\"color:red\">IF-ELIF-ELSE</span>"
   ]
  },
  {
   "attachments": {
    "ejemplo.png": {
     "image/png": "[encoded data removed]"
    }
   },
   "cell_type": "markdown",
   "metadata": {},
   "source": [
    "#### Sacar el porcentaje de cotización dando de entrada los diferentes sueldos\n",
    "<img src=\"C:/Users/Kanan/Anaconda3/ejemplo.png\">![ejemplo.png](attachment:ejemplo.png)"
   ]
  },
  {
   "cell_type": "code",
   "execution_count": 3,
   "metadata": {},
   "outputs": [
    {
     "name": "stdout",
     "output_type": "stream",
     "text": [
      "   Ingrese su sueldo: 480\n",
      "   Su % de cotización es de:  6.25\n"
     ]
    }
   ],
   "source": [
    "Sueldo = int(input('   Ingrese su sueldo: '))\n",
    "if Sueldo == 600:\n",
    "    porcentaje = 6.25\n",
    "    print('   Su % de cotización es de: ', porcentaje)\n",
    "elif Sueldo == 800:\n",
    "    porcentaje = 6.00\n",
    "    print('   Su % de cotización es de: ', porcentaje)\n",
    "elif Sueldo == 1200:\n",
    "    porcentaje = 7.00\n",
    "    print('   Su % de cotización es de: ', porcentaje)\n",
    "elif Sueldo == 480:\n",
    "    porcentaje = 6.25\n",
    "    print('   Su % de cotización es de: ', porcentaje)"
   ]
  },
  {
   "cell_type": "markdown",
   "metadata": {},
   "source": [
    "### <span style=\"color:red\">CICLO WHILE</span>"
   ]
  },
  {
   "cell_type": "markdown",
   "metadata": {},
   "source": [
    "##### Un ciclo While ejecuta una secuencia de instrucciones mientras una condición sea verdadera. Cada una de las veces que el ciclo es ejecutado se le llama iteración."
   ]
  },
  {
   "cell_type": "code",
   "execution_count": 4,
   "metadata": {},
   "outputs": [
    {
     "name": "stdout",
     "output_type": "stream",
     "text": [
      "  nuevo numero:  1\n",
      "  nuevo numero:  2\n",
      "  nuevo numero:  3\n",
      "  nuevo numero:  4\n"
     ]
    }
   ],
   "source": [
    "numero = 1\n",
    "while numero < 5:\n",
    "    print('  nuevo numero: ', numero)    \n",
    "    numero = numero+1    "
   ]
  },
  {
   "cell_type": "markdown",
   "metadata": {},
   "source": [
    "#### Ciclo for con rango"
   ]
  },
  {
   "cell_type": "markdown",
   "metadata": {},
   "source": [
    "##### Ejecuta una secuencia de sentencias una cantidad de veces fija, para llevar la cuenta, utiliza una variable de control que toma valores distintos en cada iteración."
   ]
  },
  {
   "cell_type": "code",
   "execution_count": 5,
   "metadata": {},
   "outputs": [
    {
     "name": "stdout",
     "output_type": "stream",
     "text": [
      "  Variable 0\n",
      "  Variable 1\n",
      "  Variable 2\n",
      "  Variable 3\n",
      "  Variable 4\n",
      "  Variable 5\n",
      "  Variable 6\n",
      "  Variable 7\n",
      "  Variable 8\n"
     ]
    }
   ],
   "source": [
    "for i in range(9):\n",
    "    print ('  Variable', i)"
   ]
  },
  {
   "cell_type": "markdown",
   "metadata": {},
   "source": [
    "##### Un rango es una sucesión de números enteros equiespaciados. \n",
    "range(final)              \n",
    "range(inicio, final)           \n",
    "range(inicio, final, incremento)"
   ]
  },
  {
   "cell_type": "code",
   "execution_count": 6,
   "metadata": {},
   "outputs": [
    {
     "name": "stdout",
     "output_type": "stream",
     "text": [
      "  Variable 3\n",
      "  Variable 4\n",
      "  Variable 5\n",
      "  Variable 6\n",
      "  Variable 7\n",
      "  Variable 8\n",
      "  Variable 9\n",
      "  Variable 10\n",
      "  Variable 11\n"
     ]
    }
   ],
   "source": [
    "for i in range(3, 12):\n",
    "    print ('  Variable', i)"
   ]
  },
  {
   "cell_type": "code",
   "execution_count": 7,
   "metadata": {},
   "outputs": [
    {
     "name": "stdout",
     "output_type": "stream",
     "text": [
      "   Variable 3\n",
      "   Variable 5\n",
      "   Variable 7\n",
      "   Variable 9\n",
      "   Variable 11\n",
      "   Variable 13\n"
     ]
    }
   ],
   "source": [
    "for i in range(3, 15, 2):\n",
    "    print('   Variable', i)"
   ]
  },
  {
   "cell_type": "markdown",
   "metadata": {},
   "source": [
    "##### Usando un incremento negativo, es posible hacer ciclos que van hacia atras"
   ]
  },
  {
   "cell_type": "code",
   "execution_count": 8,
   "metadata": {},
   "outputs": [
    {
     "name": "stdout",
     "output_type": "stream",
     "text": [
      "   Decremento:  10\n",
      "   Decremento:  9\n",
      "   Decremento:  8\n",
      "   Decremento:  7\n",
      "   Decremento:  6\n",
      "   Decremento:  5\n",
      "   Decremento:  4\n",
      "   Decremento:  3\n",
      "   Decremento:  2\n",
      "   Decremento:  1\n"
     ]
    }
   ],
   "source": [
    "for i in range(10, 0, -1):\n",
    "    print('   Decremento: ', i)"
   ]
  },
  {
   "cell_type": "markdown",
   "metadata": {},
   "source": [
    "## <span style=\"color:red\">LISTAS</span>"
   ]
  },
  {
   "cell_type": "markdown",
   "metadata": {},
   "source": [
    "#### Una lista es una colección ordenada de valores. Una lista puede contener cualquier cosa.                                                                       "
   ]
  },
  {
   "cell_type": "markdown",
   "metadata": {},
   "source": [
    "##### Cómo crear listas? "
   ]
  },
  {
   "cell_type": "code",
   "execution_count": 9,
   "metadata": {},
   "outputs": [
    {
     "name": "stdout",
     "output_type": "stream",
     "text": [
      "  Primos:  [2, 3, 5, 7, 11]\n",
      "\n",
      "  Varios:  ['hola', 24, True]\n"
     ]
    }
   ],
   "source": [
    "primos = [2, 3, 5, 7, 11]\n",
    "print('  Primos: ', primos)\n",
    "print()\n",
    "varios = ['hola', 24, True]\n",
    "print('  Varios: ', varios)"
   ]
  },
  {
   "cell_type": "markdown",
   "metadata": {},
   "source": [
    "#### Operaciones sobre listas"
   ]
  },
  {
   "cell_type": "markdown",
   "metadata": {},
   "source": [
    "##### len(L) entrega el largo de la lista; cuántos elementos tiene, la lista 'L'"
   ]
  },
  {
   "cell_type": "code",
   "execution_count": 10,
   "metadata": {},
   "outputs": [
    {
     "data": {
      "text/plain": [
       "3"
      ]
     },
     "execution_count": 10,
     "metadata": {},
     "output_type": "execute_result"
    }
   ],
   "source": [
    "colores = ['azul', 'rojo', 'naranja']\n",
    "len(colores)"
   ]
  },
  {
   "cell_type": "markdown",
   "metadata": {},
   "source": [
    "##### L[i] entrega el i-esimo valor de la lista 'L'. El valor i se llama índice del valor."
   ]
  },
  {
   "cell_type": "code",
   "execution_count": 12,
   "metadata": {},
   "outputs": [
    {
     "name": "stdout",
     "output_type": "stream",
     "text": [
      "0 azul\n",
      "\n",
      "2 naranja\n"
     ]
    }
   ],
   "source": [
    "print('0', colores[0])\n",
    "print()\n",
    "print('2', colores[2])"
   ]
  },
  {
   "cell_type": "markdown",
   "metadata": {},
   "source": [
    "##### Es posible modificar el i-esimo elemento de la lista"
   ]
  },
  {
   "cell_type": "code",
   "execution_count": 13,
   "metadata": {},
   "outputs": [
    {
     "data": {
      "text/plain": [
       "['azul', 'rojo', 'Morado']"
      ]
     },
     "execution_count": 13,
     "metadata": {},
     "output_type": "execute_result"
    }
   ],
   "source": [
    "colores[2] = 'Morado'\n",
    "colores"
   ]
  },
  {
   "cell_type": "markdown",
   "metadata": {},
   "source": [
    "##### Si el índice es negativo, los elementos se cuentan desde el final hacia atrás."
   ]
  },
  {
   "cell_type": "code",
   "execution_count": 14,
   "metadata": {},
   "outputs": [
    {
     "data": {
      "text/plain": [
       "'rojo'"
      ]
     },
     "execution_count": 14,
     "metadata": {},
     "output_type": "execute_result"
    }
   ],
   "source": [
    "colores[-2]"
   ]
  },
  {
   "cell_type": "markdown",
   "metadata": {},
   "source": [
    "##### l.append(x) agrega el elemento 'x' al final de la lista"
   ]
  },
  {
   "cell_type": "code",
   "execution_count": 15,
   "metadata": {},
   "outputs": [
    {
     "data": {
      "text/plain": [
       "[2, 3, 5, 7, 11]"
      ]
     },
     "execution_count": 15,
     "metadata": {},
     "output_type": "execute_result"
    }
   ],
   "source": [
    "primos"
   ]
  },
  {
   "cell_type": "code",
   "execution_count": 16,
   "metadata": {},
   "outputs": [
    {
     "data": {
      "text/plain": [
       "[2, 3, 5, 7, 11, 13]"
      ]
     },
     "execution_count": 16,
     "metadata": {},
     "output_type": "execute_result"
    }
   ],
   "source": [
    "primos.append(13)\n",
    "primos"
   ]
  },
  {
   "cell_type": "markdown",
   "metadata": {},
   "source": [
    "##### sum(x) entrega la suma de los valores de la lista"
   ]
  },
  {
   "cell_type": "code",
   "execution_count": 17,
   "metadata": {},
   "outputs": [
    {
     "data": {
      "text/plain": [
       "41"
      ]
     },
     "execution_count": 17,
     "metadata": {},
     "output_type": "execute_result"
    }
   ],
   "source": [
    "sum(primos)"
   ]
  },
  {
   "cell_type": "markdown",
   "metadata": {},
   "source": [
    "##### L1 + L2 concatena las listas L1 y L2"
   ]
  },
  {
   "cell_type": "code",
   "execution_count": 18,
   "metadata": {},
   "outputs": [
    {
     "data": {
      "text/plain": [
       "['p', 'e', 'r', 'r', 'o', 2, 3, 4]"
      ]
     },
     "execution_count": 18,
     "metadata": {},
     "output_type": "execute_result"
    }
   ],
   "source": [
    "list('perro') + [2, 3, 4]"
   ]
  },
  {
   "cell_type": "markdown",
   "metadata": {},
   "source": [
    "##### L * n repite 'n' veces la lista 'L'"
   ]
  },
  {
   "cell_type": "code",
   "execution_count": 19,
   "metadata": {},
   "outputs": [
    {
     "data": {
      "text/plain": [
       "[3, 4, 5, 6, 7, 3, 4, 5, 6, 7]"
      ]
     },
     "execution_count": 19,
     "metadata": {},
     "output_type": "execute_result"
    }
   ],
   "source": [
    "[3, 4, 5, 6, 7] * 2"
   ]
  },
  {
   "cell_type": "markdown",
   "metadata": {},
   "source": [
    "##### Para saber si un elemento 'x' se encuentra dentro de una lista 'L'"
   ]
  },
  {
   "cell_type": "code",
   "execution_count": 41,
   "metadata": {},
   "outputs": [
    {
     "name": "stdout",
     "output_type": "stream",
     "text": [
      "  12 en la lista? False\n",
      "  7 en la lista? True\n"
     ]
    }
   ],
   "source": [
    "num = [0, 1, 2, 3, 4, 5, 6, 7]\n",
    "print('  12 en la lista?', 12 in num)\n",
    "print('  7 en la lista?', 7 in num)"
   ]
  },
  {
   "cell_type": "markdown",
   "metadata": {},
   "source": [
    "##### L[i:j] es el operador de rebanado, que entrega una nueva lista que tiene desde el i-ésimo hasta justo antes del j-ésimo elemento de la lista L"
   ]
  },
  {
   "cell_type": "code",
   "execution_count": 42,
   "metadata": {},
   "outputs": [
    {
     "data": {
      "text/plain": [
       "[2, 3, 4]"
      ]
     },
     "execution_count": 42,
     "metadata": {},
     "output_type": "execute_result"
    }
   ],
   "source": [
    "num[2:5]"
   ]
  },
  {
   "cell_type": "markdown",
   "metadata": {},
   "source": [
    "##### L.count(x) cuenta cuántas veces está el elemento 'x' en la lista 'L'"
   ]
  },
  {
   "cell_type": "code",
   "execution_count": 43,
   "metadata": {},
   "outputs": [
    {
     "data": {
      "text/plain": [
       "4"
      ]
     },
     "execution_count": 43,
     "metadata": {},
     "output_type": "execute_result"
    }
   ],
   "source": [
    "letras = list('carro perro')\n",
    "letras.count('r')"
   ]
  },
  {
   "cell_type": "markdown",
   "metadata": {},
   "source": [
    "##### L.index(x) entrega cuál es el índice del valor 'x'"
   ]
  },
  {
   "cell_type": "code",
   "execution_count": 44,
   "metadata": {},
   "outputs": [
    {
     "name": "stdout",
     "output_type": "stream",
     "text": [
      "   Lista:  [0, 1, 2, 3, 4, 5, 6, 7]\n",
      "\n",
      "   Indice:  6\n"
     ]
    }
   ],
   "source": [
    "print('   Lista: ', num)\n",
    "print()\n",
    "print('   Indice: ', num.index(6))"
   ]
  },
  {
   "cell_type": "markdown",
   "metadata": {},
   "source": [
    "##### L.remove(x) elimina el elemento 'x' de la lista"
   ]
  },
  {
   "cell_type": "code",
   "execution_count": 45,
   "metadata": {},
   "outputs": [
    {
     "data": {
      "text/plain": [
       "[0, 1, 2, 3, 4, 5, 7]"
      ]
     },
     "execution_count": 45,
     "metadata": {},
     "output_type": "execute_result"
    }
   ],
   "source": [
    "num.remove(6)\n",
    "num"
   ]
  },
  {
   "cell_type": "markdown",
   "metadata": {},
   "source": [
    "##### L.reverse() invierte la lista"
   ]
  },
  {
   "cell_type": "code",
   "execution_count": 46,
   "metadata": {},
   "outputs": [
    {
     "data": {
      "text/plain": [
       "[7, 5, 4, 3, 2, 1, 0]"
      ]
     },
     "execution_count": 46,
     "metadata": {},
     "output_type": "execute_result"
    }
   ],
   "source": [
    "num.reverse()\n",
    "num"
   ]
  },
  {
   "cell_type": "markdown",
   "metadata": {},
   "source": [
    "##### L.sort() ordenada la lista"
   ]
  },
  {
   "cell_type": "code",
   "execution_count": 47,
   "metadata": {},
   "outputs": [
    {
     "data": {
      "text/plain": [
       "[0, 1, 2, 3, 5, 9]"
      ]
     },
     "execution_count": 47,
     "metadata": {},
     "output_type": "execute_result"
    }
   ],
   "source": [
    "lista = [3, 5, 9, 0 ,2 ,1]\n",
    "lista.sort()\n",
    "lista"
   ]
  },
  {
   "cell_type": "markdown",
   "metadata": {},
   "source": [
    "#### Iteración sobre una lista"
   ]
  },
  {
   "cell_type": "markdown",
   "metadata": {},
   "source": [
    "##### Una lista es iterable. Esto significa que sus valores se pueden recorrer usando un ciclo for."
   ]
  },
  {
   "cell_type": "code",
   "execution_count": 49,
   "metadata": {},
   "outputs": [
    {
     "name": "stdout",
     "output_type": "stream",
     "text": [
      "  Valores:  0\n",
      "  Valores:  1\n",
      "  Valores:  2\n",
      "  Valores:  3\n",
      "  Valores:  5\n",
      "  Valores:  9\n"
     ]
    }
   ],
   "source": [
    "for i in lista:\n",
    "    print ('  Valores: ', i)"
   ]
  },
  {
   "cell_type": "markdown",
   "metadata": {},
   "source": [
    "## <span style=\"color:red\">TUPLAS</span>"
   ]
  },
  {
   "cell_type": "markdown",
   "metadata": {},
   "source": [
    "##### Una ***tupla*** es una secuencia de valores agrupados. Una tupla sirve para agrupar, como si fueran un único valor, varios valores que, por su naturaleza, deben ir juntos. El tipo de datos que representa a las tuplas se llama tuple. El tipo tuple es inmutable: una tupla no puede ser modificada una vez que ha sido creada."
   ]
  },
  {
   "cell_type": "code",
   "execution_count": 50,
   "metadata": {},
   "outputs": [
    {
     "data": {
      "text/plain": [
       "('Adrian', 'Cedillo')"
      ]
     },
     "execution_count": 50,
     "metadata": {},
     "output_type": "execute_result"
    }
   ],
   "source": [
    "persona = ('Adrian', 'Cedillo')\n",
    "persona"
   ]
  },
  {
   "cell_type": "markdown",
   "metadata": {},
   "source": [
    "#### Desempaquetado de tuplas"
   ]
  },
  {
   "cell_type": "markdown",
   "metadata": {},
   "source": [
    "##### Los valores individuales de una tupla pueden ser recuperados asignando la tupla a las variables respectivas."
   ]
  },
  {
   "cell_type": "code",
   "execution_count": 51,
   "metadata": {},
   "outputs": [
    {
     "data": {
      "text/plain": [
       "'Cedillo'"
      ]
     },
     "execution_count": 51,
     "metadata": {},
     "output_type": "execute_result"
    }
   ],
   "source": [
    "nombre, apellido = persona\n",
    "apellido"
   ]
  },
  {
   "cell_type": "markdown",
   "metadata": {},
   "source": [
    "##### también es posible extraer los valores usando su índice, al igual que con las listas"
   ]
  },
  {
   "cell_type": "code",
   "execution_count": 52,
   "metadata": {},
   "outputs": [
    {
     "data": {
      "text/plain": [
       "'Adrian'"
      ]
     },
     "execution_count": 52,
     "metadata": {},
     "output_type": "execute_result"
    }
   ],
   "source": [
    "persona[0]"
   ]
  },
  {
   "cell_type": "markdown",
   "metadata": {},
   "source": [
    "##### A diferencia de las listas, los elementos no se pueden modificar"
   ]
  },
  {
   "cell_type": "code",
   "execution_count": 53,
   "metadata": {},
   "outputs": [
    {
     "ename": "TypeError",
     "evalue": "'tuple' object does not support item assignment",
     "output_type": "error",
     "traceback": [
      "\u001b[1;31m---------------------------------------------------------------------------\u001b[0m",
      "\u001b[1;31mTypeError\u001b[0m                                 Traceback (most recent call last)",
      "\u001b[1;32m<ipython-input-53-be1609bfed7c>\u001b[0m in \u001b[0;36m<module>\u001b[1;34m\u001b[0m\n\u001b[1;32m----> 1\u001b[1;33m \u001b[0mpersona\u001b[0m\u001b[1;33m[\u001b[0m\u001b[1;36m0\u001b[0m\u001b[1;33m]\u001b[0m \u001b[1;33m=\u001b[0m \u001b[1;34m'Aaron'\u001b[0m\u001b[1;33m\u001b[0m\u001b[1;33m\u001b[0m\u001b[0m\n\u001b[0m",
      "\u001b[1;31mTypeError\u001b[0m: 'tuple' object does not support item assignment"
     ]
    }
   ],
   "source": [
    "persona[0] = 'Aaron'"
   ]
  },
  {
   "cell_type": "markdown",
   "metadata": {},
   "source": [
    "##### Una tabla de datos generalmente se representa como una lista de tuplas. "
   ]
  },
  {
   "cell_type": "code",
   "execution_count": 55,
   "metadata": {},
   "outputs": [],
   "source": [
    "alumnos = [\n",
    "    ('Adrian', 'Cedillo', '029302', 'Robotica'),\n",
    "    ('Isaac', 'Medina', '928302', 'Robotica'),\n",
    "    ('Jaime', 'Sanchez', '937290', 'Ciencias'),\n",
    "]"
   ]
  },
  {
   "cell_type": "code",
   "execution_count": 59,
   "metadata": {},
   "outputs": [
    {
     "name": "stdout",
     "output_type": "stream",
     "text": [
      "   Adrian estudia Robotica\n",
      "   Isaac estudia Robotica\n",
      "   Jaime estudia Ciencias\n"
     ]
    }
   ],
   "source": [
    "for nombre, apellido, numero, carrera in alumnos:\n",
    "    print ('  ', nombre, 'estudia', carrera)"
   ]
  },
  {
   "cell_type": "markdown",
   "metadata": {},
   "source": [
    "##### ya que el apellido y el rol no son usados"
   ]
  },
  {
   "cell_type": "code",
   "execution_count": 60,
   "metadata": {},
   "outputs": [
    {
     "name": "stdout",
     "output_type": "stream",
     "text": [
      "   Adrian estudia Robotica\n",
      "   Isaac estudia Robotica\n",
      "   Jaime estudia Ciencias\n"
     ]
    }
   ],
   "source": [
    "for nombre, _, _, carrera in alumnos:\n",
    "    print ('  ', nombre, 'estudia', carrera)"
   ]
  },
  {
   "cell_type": "markdown",
   "metadata": {},
   "source": [
    "##### se puede convertir una tupla en una lista usando la función list, y una lista en una tupla usando la función tuple"
   ]
  },
  {
   "cell_type": "code",
   "execution_count": 62,
   "metadata": {},
   "outputs": [
    {
     "name": "stdout",
     "output_type": "stream",
     "text": [
      "  Tupla a Lista:  [1, 2, 3, 4]\n",
      "  Lista a Tupla:  (1, 2, 3, 4)\n"
     ]
    }
   ],
   "source": [
    "a = (1, 2, 3, 4)\n",
    "b = [1, 2, 3, 4]\n",
    "\n",
    "print('  Tupla a Lista: ', list(a))\n",
    "print('  Lista a Tupla: ', tuple(b))"
   ]
  }
 ],
 "metadata": {
  "kernelspec": {
   "display_name": "Python 3",
   "language": "python",
   "name": "python3"
  },
  "language_info": {
   "codemirror_mode": {
    "name": "ipython",
    "version": 3
   },
   "file_extension": ".py",
   "mimetype": "text/x-python",
   "name": "python",
   "nbconvert_exporter": "python",
   "pygments_lexer": "ipython3",
   "version": "3.7.3"
  }
 },
 "nbformat": 4,
 "nbformat_minor": 2
}
