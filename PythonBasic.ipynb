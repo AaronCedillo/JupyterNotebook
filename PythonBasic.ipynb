{
 "cells": [
  {
   "cell_type": "markdown",
   "metadata": {},
   "source": [
    "### Condicional if"
   ]
  },
  {
   "cell_type": "markdown",
   "metadata": {},
   "source": [
    "##### Ejecuta las instrucciones sólo si se cumple una condición."
   ]
  },
  {
   "cell_type": "code",
   "execution_count": 6,
   "metadata": {},
   "outputs": [
    {
     "name": "stdout",
     "output_type": "stream",
     "text": [
      "  Ingrese una nota: 59\n",
      "    Reprobo\n"
     ]
    }
   ],
   "source": [
    "nota = int(input('  Ingrese una nota: '))\n",
    "if nota > 59:\n",
    "    print (\"   Aprobo\")\n",
    "else: \n",
    "    print(\"    Reprobo\")"
   ]
  },
  {
   "cell_type": "code",
   "execution_count": null,
   "metadata": {},
   "outputs": [],
   "source": []
  }
 ],
 "metadata": {
  "kernelspec": {
   "display_name": "Python 3",
   "language": "python",
   "name": "python3"
  }
 },
 "nbformat": 4,
 "nbformat_minor": 2
}
